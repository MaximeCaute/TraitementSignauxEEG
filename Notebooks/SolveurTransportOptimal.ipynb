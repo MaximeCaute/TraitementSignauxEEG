{
 "cells": [
  {
   "cell_type": "markdown",
   "metadata": {},
   "source": [
    "# Solveur par transport optimal"
   ]
  },
  {
   "cell_type": "markdown",
   "metadata": {},
   "source": [
    "L'objectif de ce cahier est de tester un solveur par transport optimal, notamment à l'aide d'un signal-jouet."
   ]
  },
  {
   "cell_type": "markdown",
   "metadata": {},
   "source": [
    " ## Implémentation du solveur"
   ]
  },
  {
   "cell_type": "markdown",
   "metadata": {},
   "source": [
    "On commence par importer les modules nécessaires : \n",
    "    - **ot** pour le transport optimal;\n",
    "    - **scipy.optimize** pour le simplexe;\n",
    "    - **scipy.signal** pour les spectrogrammes;\n",
    "    - **numpy** pour la manipulation de tableaux;\n",
    "    - **matplotlib.pyplot** pour l'affichage de courbes."
   ]
  },
  {
   "cell_type": "code",
   "execution_count": 1,
   "metadata": {},
   "outputs": [],
   "source": [
    "import ot\n",
    "import scipy.optimize, scipy.signal\n",
    "import numpy as np\n",
    "import matplotlib.pyplot as plt"
   ]
  },
  {
   "cell_type": "markdown",
   "metadata": {},
   "source": [
    "L'objectif ici est d'obtenir une PLCA à l'aide d'un dictionnaire **W** et d'un vecteur **v**\n",
    "\n",
    "On calcule pour cela une matrice de coût **C**. Nous implémentons, dans un premier temps, une matrice en fréquence, à partir du tableau **F** des fréquences du dictionnaire."
   ]
  },
  {
   "cell_type": "code",
   "execution_count": 2,
   "metadata": {},
   "outputs": [],
   "source": [
    "def frequential_cost_matrix(F):\n",
    "    M = F.shape[0]\n",
    "    C = np.zeros((M,M))\n",
    "    for i in range(M):\n",
    "        for j in range(M):\n",
    "            C[i,j] = (F[i]-F[j])**2\n",
    "    return C"
   ]
  },
  {
   "cell_type": "markdown",
   "metadata": {},
   "source": [
    "On cherche alors **T** et **v** positives de sorte à minimiser **<T,C>F**, avec **T\\*1 = v** et **tT\\*1 = W\\*h**, en déroulant les matrices en vecteurs colonnes, on se ramène à un problème d'optimisation linéaire. Nous résolvons donc ce problème avec l'algorithme du simplexe.\n",
    "\n",
    "On calcule pour cela sa représentation canonique, sous forme de matrice:\n",
    "  - minimiser <th,ch>F avec (th)_i = (T)_i//M,(i mod M) pour i<M^2, h_i sinon , et (ch)_i = (C)_i//M,(i mod M), pour i<M^2, h_i sinon;\n",
    "  - pour tout i<= M, somme_j (th)_i*M+j = v_i;\n",
    "  - pour tout j, somme_i (th)_i*M+j = (Wh)_j = somme_k (W)_jk \\* h_k = somme_k (W)_jk \\* (th)_M^2+k;\n",
    "  - th >= 0."
   ]
  },
  {
   "cell_type": "code",
   "execution_count": 57,
   "metadata": {},
   "outputs": [],
   "source": [
    "def simplex_OT_canonical_matrices(v, W, C):\n",
    "    M = v.shape[0]\n",
    "    K = W.shape[1]\n",
    "    # Coefficients for minimization\n",
    "    c = np.zeros((M**2+ K,))\n",
    "    #Constraints matrix and vertice\n",
    "    A = np.zeros((2*M,M**2+ K))\n",
    "    b = np.zeros((2*M,))\n",
    "    \n",
    "    # c is unfolding C and letting zeros after\n",
    "    c[:M**2] =  [C[i//M, i%M] for i in range(M**2)]\n",
    "    \n",
    "    # Writing first constraints set\n",
    "    for i in range(M):\n",
    "        for j in range(M):\n",
    "            A[i, i*M+j] = 1\n",
    "        b[i] = v[i] \n",
    "    \n",
    "    # Writing second constraints set\n",
    "    for j in range(M):\n",
    "        for i in range(M):\n",
    "            A[M + j, i*M+j] = 1\n",
    "        for k in range(K):\n",
    "            A[M + j, M**2 +k] = -W[j,k]\n",
    "    \n",
    "    # Returning matrices\n",
    "    return c, A, b\n",
    "\n",
    "def simplex_algorithm(c, A, b):\n",
    "    #result = scipy.optimize.linprog(c, method=\"simplex\", options={'A':A, 'b':b})\n",
    "    result = scipy.optimize.linprog(c, A_eq=A, b_eq=b,bounds=(0, None))\n",
    "    if not result.success:\n",
    "        print(\"Failure: \", result.message)\n",
    "    print(\"Simplex iterations:\", result.nit)\n",
    "    return result.x"
   ]
  },
  {
   "cell_type": "markdown",
   "metadata": {},
   "source": [
    "Nous pouvons donc ensuite isoler **h** à partir du retour, en prenant les dernières valeurs. Il nous reste donc à définir la fonction déterminant **h** à partir de **v**, **C**, et **W**."
   ]
  },
  {
   "cell_type": "code",
   "execution_count": 4,
   "metadata": {},
   "outputs": [],
   "source": [
    "def compute_NMF(v,C,W):\n",
    "    c, A, b = simplex_OT_canonical_matrices(v, W, C)\n",
    "    th = simplex_algorithm(c, A, b)\n",
    "    K = W.shape[1]\n",
    "    h = th[-K:]\n",
    "    return h"
   ]
  },
  {
   "cell_type": "markdown",
   "metadata": {},
   "source": [
    "Nous pouvons donc définir notre solveur."
   ]
  },
  {
   "cell_type": "markdown",
   "metadata": {},
   "source": [
    "## Tests"
   ]
  },
  {
   "cell_type": "markdown",
   "metadata": {},
   "source": [
    "Il nous reste donc à effectuer des tests pour voir si tout fonctionne bien."
   ]
  },
  {
   "cell_type": "markdown",
   "metadata": {},
   "source": [
    "### Test du simplexe"
   ]
  },
  {
   "cell_type": "markdown",
   "metadata": {},
   "source": [
    "Testons tout d'abord notre algorithme du simplexe, avec l'[exemple](https://en.wikipedia.org/wiki/Simplex_algorithm#Example) suivant."
   ]
  },
  {
   "cell_type": "code",
   "execution_count": 5,
   "metadata": {},
   "outputs": [
    {
     "name": "stdout",
     "output_type": "stream",
     "text": [
      "[1.23058104e-11 3.23362187e-12 5.00000000e+00 5.00000000e+00\n",
      " 1.44464717e-11]\n"
     ]
    }
   ],
   "source": [
    "c = np.array([-2,-3,-4,0,0])\n",
    "A = np.array([[3,2,1,1,0],\n",
    "              [2,5,3,0,1]])\n",
    "b = np.array([10,15])\n",
    "\n",
    "print(simplex_algorithm(c,A,b))"
   ]
  },
  {
   "cell_type": "markdown",
   "metadata": {},
   "source": [
    "## Test de la forme canonique"
   ]
  },
  {
   "cell_type": "code",
   "execution_count": 6,
   "metadata": {},
   "outputs": [
    {
     "name": "stdout",
     "output_type": "stream",
     "text": [
      "[0. 1. 1. 0. 0. 0.]\n",
      "[[ 1.   1.   0.   0.   0.   0. ]\n",
      " [ 0.   0.   1.   1.   0.   0. ]\n",
      " [ 1.   0.   1.   0.  -1.  -0.5]\n",
      " [ 0.   1.   0.   1.  -0.  -0.5]]\n",
      "[0.6 0.4 0.  0. ]\n",
      "h = [0.2 0.8]\n",
      "Wh = [0.6 0.4]\n",
      "1.0000000019705162\n"
     ]
    }
   ],
   "source": [
    "v = np.array([0.6,0.4])\n",
    "W = np.array([[1, 0.5],\n",
    "              [0, 0.5]])\n",
    "C = np.array([[0,1],\n",
    "              [1,0]])\n",
    "\n",
    "c,A,b = simplex_OT_canonical_matrices(v, W, C)\n",
    "print(c)\n",
    "print(A)\n",
    "print(b)\n",
    "\n",
    "h = simplex_algorithm(c,A,b)[-2:]\n",
    "\n",
    "print(\"h =\",h)\n",
    "print(\"Wh =\",np.dot(W,h))\n",
    "\n",
    "print(np.sum(h))"
   ]
  },
  {
   "cell_type": "markdown",
   "metadata": {},
   "source": [
    "## Test avec un signal-jouet"
   ]
  },
  {
   "cell_type": "markdown",
   "metadata": {},
   "source": [
    "Nous générons d'abord le signal-jouet, composé de trois sinusoïdes de fréquences différentes."
   ]
  },
  {
   "cell_type": "code",
   "execution_count": 7,
   "metadata": {},
   "outputs": [
    {
     "data": {
      "image/png": "[encoded data removed]",
      "text/plain": [
       "<Figure size 432x288 with 1 Axes>"
      ]
     },
     "metadata": {
      "needs_background": "light"
     },
     "output_type": "display_data"
    },
    {
     "data": {
      "image/png": "[encoded data removed]",
      "text/plain": [
       "<Figure size 432x288 with 1 Axes>"
      ]
     },
     "metadata": {
      "needs_background": "light"
     },
     "output_type": "display_data"
    }
   ],
   "source": [
    "fs = 10e4\n",
    "N = 5000\n",
    "T = np.arange(N) / fs\n",
    "\n",
    "f1 = 781.25\n",
    "f2 = 1171.875\n",
    "f3 = 3125\n",
    "coefficients = [1/6,3/6,2/6]\n",
    "\n",
    "s1 = np.sin(2*np.pi*f1 * T)\n",
    "s2 = np.sin(2*np.pi*f2 * T)\n",
    "s3 = np.sin(2*np.pi*f3 * T)\n",
    "\n",
    "st = (  coefficients[0] * s1 +\n",
    "        coefficients[1] * s2 + \n",
    "        coefficients[2] * s3)\n",
    "\n",
    "plt.plot(T, s1, color = 'blue')\n",
    "plt.plot(T, s2,color = 'red')\n",
    "plt.plot(T, s3, color = 'green')\n",
    "plt.plot(T, st, color = 'black')\n",
    "plt.show()\n",
    "plt.plot(T, st, color = 'black')\n",
    "plt.show()"
   ]
  },
  {
   "cell_type": "markdown",
   "metadata": {},
   "source": [
    "Nous obtenons ensuite les spectres de ces signaux."
   ]
  },
  {
   "cell_type": "code",
   "execution_count": 8,
   "metadata": {},
   "outputs": [
    {
     "name": "stdout",
     "output_type": "stream",
     "text": [
      "[    0.      390.625   781.25   1171.875  1562.5    1953.125  2343.75\n",
      "  2734.375  3125.     3515.625  3906.25   4296.875  4687.5    5078.125\n",
      "  5468.75   5859.375  6250.     6640.625  7031.25   7421.875  7812.5\n",
      "  8203.125  8593.75   8984.375  9375.     9765.625 10156.25  10546.875\n",
      " 10937.5   11328.125 11718.75  12109.375 12500.    12890.625 13281.25\n",
      " 13671.875 14062.5   14453.125 14843.75  15234.375 15625.    16015.625\n",
      " 16406.25  16796.875 17187.5   17578.125 17968.75  18359.375 18750.\n",
      " 19140.625 19531.25  19921.875 20312.5   20703.125 21093.75  21484.375\n",
      " 21875.    22265.625 22656.25  23046.875 23437.5   23828.125 24218.75\n",
      " 24609.375 25000.    25390.625 25781.25  26171.875 26562.5   26953.125\n",
      " 27343.75  27734.375 28125.    28515.625 28906.25  29296.875 29687.5\n",
      " 30078.125 30468.75  30859.375 31250.    31640.625 32031.25  32421.875\n",
      " 32812.5   33203.125 33593.75  33984.375 34375.    34765.625 35156.25\n",
      " 35546.875 35937.5   36328.125 36718.75  37109.375 37500.    37890.625\n",
      " 38281.25  38671.875 39062.5   39453.125 39843.75  40234.375 40625.\n",
      " 41015.625 41406.25  41796.875 42187.5   42578.125 42968.75  43359.375\n",
      " 43750.    44140.625 44531.25  44921.875 45312.5   45703.125 46093.75\n",
      " 46484.375 46875.    47265.625 47656.25  48046.875 48437.5   48828.125\n",
      " 49218.75  49609.375 50000.   ]\n"
     ]
    },
    {
     "data": {
      "image/png": "[encoded data removed]",
      "text/plain": [
       "<Figure size 432x288 with 1 Axes>"
      ]
     },
     "metadata": {
      "needs_background": "light"
     },
     "output_type": "display_data"
    }
   ],
   "source": [
    "f,t,St = scipy.signal.spectrogram(st, fs=fs )\n",
    "f1,t1,S1 = scipy.signal.spectrogram(s1, fs = fs)\n",
    "f2,t2,S2 = scipy.signal.spectrogram(s2, fs = fs)\n",
    "f3,t3,S3 = scipy.signal.spectrogram(s3, fs = fs)\n",
    "print(f)\n",
    "plt.pcolormesh(t,f,St)\n",
    "plt.show()"
   ]
  },
  {
   "cell_type": "markdown",
   "metadata": {},
   "source": [
    "On en extrait ensuite une trame isolée. que l'on normalise."
   ]
  },
  {
   "cell_type": "code",
   "execution_count": 9,
   "metadata": {},
   "outputs": [
    {
     "name": "stdout",
     "output_type": "stream",
     "text": [
      "[2.88202520e-02 5.42055983e-02 8.45000000e-01 3.27910330e-02\n",
      " 2.07505734e-02 1.11995000e-02 5.00000000e-03 1.74626931e-03\n",
      " 4.23481916e-04 4.97757431e-05 5.21098123e-31 6.04251242e-06\n",
      " 5.22824425e-06 1.24097025e-06 1.47183721e-31 3.42557462e-07\n",
      " 3.88894172e-07 1.14954200e-07 6.61998758e-32 4.43989852e-08\n",
      " 5.75342410e-08 1.90823701e-08 1.20639681e-31 8.92344319e-09\n",
      " 1.25319868e-08 4.46872837e-09 8.69733314e-33 2.36877704e-09\n",
      " 3.51354710e-09 1.31738386e-09 7.52855166e-32 7.63412513e-10\n",
      " 1.17827928e-09 4.58447505e-10 4.43715044e-32 2.84042021e-10\n",
      " 4.51898978e-10 1.80909781e-10 1.22274269e-32 1.18091383e-10\n",
      " 1.92432877e-10 7.88044651e-11 9.26284930e-33 5.36447107e-11\n",
      " 8.91317444e-11 3.71833761e-11 3.21167827e-33 2.62017193e-11\n",
      " 4.42431297e-11 1.87445434e-11 6.39439385e-33 1.35977150e-11\n",
      " 2.32763474e-11 9.99193979e-12 2.64620228e-32 7.43068187e-12\n",
      " 1.28701943e-11 5.58794786e-12 1.79530170e-30 4.24631325e-12\n",
      " 7.43081400e-12 3.25863060e-12 1.66104720e-30 2.52395182e-12\n",
      " 4.45733502e-12 1.97214001e-12 1.04464150e-32 1.55388456e-12\n",
      " 2.76691954e-12 1.23413004e-12 1.32817480e-32 9.87694016e-13\n",
      " 1.77210323e-12 7.96308063e-13 8.40682962e-32 6.46596335e-13\n",
      " 1.16834651e-12 5.28679337e-13 8.02129423e-32 4.35199464e-13\n",
      " 7.91680799e-13 3.60634201e-13 8.09170685e-33 3.00807539e-13\n",
      " 5.50791908e-13 2.52539345e-13 1.23874148e-33 2.13391598e-13\n",
      " 3.93264617e-13 1.81483290e-13 8.45795595e-32 1.55354366e-13\n",
      " 2.88181328e-13 1.33865004e-13 1.75961037e-31 1.16120540e-13\n",
      " 2.16851867e-13 1.01415135e-13 6.33144584e-34 8.91892521e-14\n",
      " 1.67726338e-13 7.89973668e-14 1.59721018e-31 7.04833050e-14\n",
      " 1.33527669e-13 6.33613185e-14 8.70808563e-32 5.74014869e-14\n",
      " 1.09595917e-13 5.24184142e-14 4.01084106e-32 4.82624389e-14\n",
      " 9.29117944e-14 4.48127860e-14 5.23730554e-32 4.19722174e-14\n",
      " 8.15106847e-14 3.96628603e-14 3.14340870e-31 3.78229558e-14\n",
      " 7.41270502e-14 3.64043512e-14 2.51618805e-31 3.53705837e-14\n",
      " 6.99789154e-14 3.46954607e-14 1.58254235e-32 3.43620532e-14\n",
      " 3.43205704e-14]\n",
      "[8.71360644e-03 1.79723389e-02 1.89762943e-02 9.07941115e-01\n",
      " 1.71506790e-02 1.33427092e-02 8.72483483e-03 4.64052136e-03\n",
      " 1.90050861e-03 5.33707128e-04 7.29841631e-05 1.21009251e-06\n",
      " 1.16193272e-05 1.08917279e-05 3.05878356e-06 2.49969390e-07\n",
      " 1.06065091e-06 1.21009251e-06 4.39143391e-07 7.24477220e-08\n",
      " 2.05943521e-07 2.49969390e-07 1.05955274e-07 2.60631039e-08\n",
      " 5.85654309e-08 7.24477220e-08 3.42776919e-08 1.09000164e-08\n",
      " 2.10227105e-08 2.60631039e-08 1.34053954e-08 5.09408579e-09\n",
      " 8.83448136e-09 1.09000164e-08 5.98893807e-09 2.59258423e-09\n",
      " 4.16055238e-09 5.09408579e-09 2.95293739e-09 1.41143504e-09\n",
      " 2.13580228e-09 2.59258423e-09 1.57091396e-09 8.11366818e-10\n",
      " 1.17287130e-09 1.41143504e-09 8.87542766e-10 4.87704978e-10\n",
      " 6.79820044e-10 8.11366818e-10 5.26456701e-10 3.04209817e-10\n",
      " 4.11769191e-10 4.87704978e-10 3.24994251e-10 1.95707035e-10\n",
      " 2.58629130e-10 3.04209817e-10 2.07368430e-10 1.29196972e-10\n",
      " 1.67410718e-10 1.95707035e-10 1.35998755e-10 8.71411568e-11\n",
      " 1.11109925e-10 1.29196972e-10 9.12448211e-11 5.98198545e-11\n",
      " 7.52809541e-11 8.71411568e-11 6.23702739e-11 4.16460912e-11\n",
      " 5.18665549e-11 5.98198545e-11 4.32733890e-11 2.93036113e-11\n",
      " 3.62065602e-11 4.16460912e-11 3.03665670e-11 2.07672037e-11\n",
      " 2.55183745e-11 2.93036113e-11 2.14763700e-11 1.47683966e-11\n",
      " 1.80930944e-11 2.07672037e-11 1.52507394e-11 1.04945680e-11\n",
      " 1.28546853e-11 1.47683966e-11 1.08285567e-11 7.41457516e-12\n",
      " 9.11041562e-12 1.04945680e-11 7.64981206e-12 5.17506608e-12\n",
      " 6.40548686e-12 7.41457516e-12 5.34357175e-12 3.53738306e-12\n",
      " 4.43617263e-12 5.17506608e-12 3.66024901e-12 2.33837022e-12\n",
      " 2.99672383e-12 3.53738306e-12 2.42977360e-12 1.46559449e-12\n",
      " 1.94626040e-12 2.33837021e-12 1.53527631e-12 8.41456986e-13\n",
      " 1.18777712e-12 1.46559449e-12 8.96287887e-13 4.12917294e-13\n",
      " 6.54666325e-13 8.41456988e-13 4.57913431e-13 1.44857408e-13\n",
      " 3.02022905e-13 4.12917294e-13 1.83862938e-13 1.58891527e-14\n",
      " 1.01085448e-13 1.44857408e-13 5.20589805e-14 1.58891529e-14\n",
      " 1.79113044e-14]\n",
      "[2.71027346e-31 1.40112725e-04 6.97084826e-04 2.04837293e-03\n",
      " 4.62962963e-03 8.53058724e-03 1.30897862e-02 1.69156366e-02\n",
      " 9.07407407e-01 1.71892298e-02 1.34584628e-02 8.76951601e-03\n",
      " 4.62962963e-03 1.87854619e-03 5.21343199e-04 6.92219415e-05\n",
      " 1.07948021e-30 1.03825884e-05 9.85219773e-06 2.54541352e-06\n",
      " 3.08820928e-30 8.16632344e-07 9.91296828e-07 3.11838443e-07\n",
      " 5.89763323e-31 1.34743433e-07 1.83694981e-07 6.38967499e-08\n",
      " 1.37064464e-30 3.25929047e-08 4.76303210e-08 1.76348638e-08\n",
      " 4.22342184e-31 1.00187704e-08 1.53441839e-08 5.93105722e-09\n",
      " 5.71915659e-32 3.63714721e-09 5.76364022e-09 2.29971574e-09\n",
      " 8.85544455e-31 1.49362096e-09 2.42938788e-09 9.93402908e-10\n",
      " 3.88490997e-31 6.74875524e-10 1.12063012e-09 4.67313814e-10\n",
      " 2.37279109e-31 3.29227581e-10 5.55994577e-10 2.35622894e-10\n",
      " 2.74648265e-29 1.71079374e-10 2.93026499e-10 1.25875135e-10\n",
      " 3.81194133e-32 9.37590048e-11 1.62539569e-10 7.06383893e-11\n",
      " 3.95151009e-31 5.37891629e-11 9.42313247e-11 4.13701835e-11\n",
      " 1.76558732e-31 3.21193751e-11 5.67936289e-11 2.51601756e-11\n",
      " 3.99331093e-29 1.98762921e-11 3.54406327e-11 1.58294495e-11\n",
      " 1.26385503e-31 1.27046216e-11 2.28277362e-11 1.02730918e-11\n",
      " 1.80887381e-31 8.36723349e-12 1.51427017e-11 6.86309748e-12\n",
      " 8.09718280e-32 5.66826006e-12 1.03288074e-11 4.71325671e-12\n",
      " 8.28381045e-32 3.94548589e-12 7.23776390e-12 3.32483162e-12\n",
      " 7.85611243e-31 2.82049319e-12 5.20856281e-12 2.40867076e-12\n",
      " 4.43896080e-31 2.07086261e-12 3.85012663e-12 1.79260337e-12\n",
      " 1.29336358e-30 1.56252245e-12 2.92532798e-12 1.37163686e-12\n",
      " 1.12617192e-30 1.21281676e-12 2.28721568e-12 1.08037914e-12\n",
      " 1.16762516e-30 9.69777308e-13 1.84298955e-12 8.77362253e-13\n",
      " 6.01012574e-32 8.00198572e-13 1.53315605e-12 7.35921852e-13\n",
      " 1.26774360e-29 6.82627834e-13 1.31921689e-12 6.38786156e-13\n",
      " 2.87167397e-31 6.03173178e-13 1.17628171e-12 5.74819874e-13\n",
      " 7.67813348e-31 5.52971603e-13 1.08860391e-12 5.37057515e-13\n",
      " 4.99598486e-31 5.26667854e-13 1.04691325e-12 5.21537947e-13\n",
      " 9.58295788e-30]\n"
     ]
    }
   ],
   "source": [
    "v= St[:, t.shape[0]//4]\n",
    "v/=np.sum(v)\n",
    "v1 = S1[:, t.shape[0]//4]\n",
    "v1/=np.sum(v1)\n",
    "v2 = S2[:, t.shape[0]//4]\n",
    "v2/=np.sum(v2)\n",
    "v3 = S3[:, t.shape[0]//4]\n",
    "v3/=np.sum(v3)\n",
    "\n",
    "print(v1)\n",
    "print(v2)\n",
    "print(v3)"
   ]
  },
  {
   "cell_type": "markdown",
   "metadata": {},
   "source": [
    "Nous générons ensuite le dictionnaire associé."
   ]
  },
  {
   "cell_type": "code",
   "execution_count": 10,
   "metadata": {},
   "outputs": [
    {
     "name": "stdout",
     "output_type": "stream",
     "text": [
      "(129, 3)\n"
     ]
    },
    {
     "data": {
      "image/png": "[encoded data removed]",
      "text/plain": [
       "<Figure size 432x288 with 1 Axes>"
      ]
     },
     "metadata": {
      "needs_background": "light"
     },
     "output_type": "display_data"
    }
   ],
   "source": [
    "W = np.zeros((v1.shape[0],3))\n",
    "W[:,0] = v1\n",
    "W[:,1] = v2\n",
    "W[:,2] = v3\n",
    "\n",
    "print(W.shape)\n",
    "\n",
    "plt.pcolormesh([1,2,3,4],f,W)\n",
    "plt.show()"
   ]
  },
  {
   "cell_type": "markdown",
   "metadata": {},
   "source": [
    "Enfin, nous calculons la matrice de coût, à partir des fréquences."
   ]
  },
  {
   "cell_type": "code",
   "execution_count": 11,
   "metadata": {},
   "outputs": [
    {
     "name": "stdout",
     "output_type": "stream",
     "text": [
      "[[0.00000000e+00 1.52587891e+05 6.10351562e+05 ... 2.42248535e+09\n",
      "  2.46109009e+09 2.50000000e+09]\n",
      " [1.52587891e+05 0.00000000e+00 1.52587891e+05 ... 2.38418579e+09\n",
      "  2.42248535e+09 2.46109009e+09]\n",
      " [6.10351562e+05 1.52587891e+05 0.00000000e+00 ... 2.34619141e+09\n",
      "  2.38418579e+09 2.42248535e+09]\n",
      " ...\n",
      " [2.42248535e+09 2.38418579e+09 2.34619141e+09 ... 0.00000000e+00\n",
      "  1.52587891e+05 6.10351562e+05]\n",
      " [2.46109009e+09 2.42248535e+09 2.38418579e+09 ... 1.52587891e+05\n",
      "  0.00000000e+00 1.52587891e+05]\n",
      " [2.50000000e+09 2.46109009e+09 2.42248535e+09 ... 6.10351562e+05\n",
      "  1.52587891e+05 0.00000000e+00]]\n"
     ]
    }
   ],
   "source": [
    "C = frequential_cost_matrix(f)\n",
    "print(C)"
   ]
  },
  {
   "cell_type": "markdown",
   "metadata": {},
   "source": [
    "Nous employons enfin notre solveur."
   ]
  },
  {
   "cell_type": "code",
   "execution_count": 12,
   "metadata": {},
   "outputs": [
    {
     "name": "stdout",
     "output_type": "stream",
     "text": [
      "Failure:  The algorithm terminated successfully and determined that the problem is unbounded.\n"
     ]
    }
   ],
   "source": [
    "h = compute_NMF(v,C,W)"
   ]
  },
  {
   "cell_type": "markdown",
   "metadata": {},
   "source": [
    "Il nous reste à observer si le découpage est valide."
   ]
  },
  {
   "cell_type": "code",
   "execution_count": 13,
   "metadata": {},
   "outputs": [
    {
     "name": "stdout",
     "output_type": "stream",
     "text": [
      "[0.11851017 0.11977297 0.1236769 ]\n"
     ]
    }
   ],
   "source": [
    "print(h)"
   ]
  },
  {
   "cell_type": "code",
   "execution_count": 14,
   "metadata": {},
   "outputs": [
    {
     "name": "stdout",
     "output_type": "stream",
     "text": [
      "[9.16017855e-03 1.80671401e-02 1.50553842e-01 4.60118520e-01\n",
      " 1.35769783e-02 1.13814670e-02 9.55901282e-03 8.24985110e-03\n",
      " 3.03489970e-01 6.00489277e-03 4.52264635e-03 2.92478414e-03\n",
      " 1.54989091e-03 6.31834756e-04 1.75310458e-04 2.32560581e-05\n",
      " 5.95141152e-07 4.08506807e-06 3.50363761e-06 8.92094865e-07\n",
      " 1.12560801e-07 4.00375871e-07 3.83409913e-07 1.18464940e-07\n",
      " 3.13713799e-08 8.18831269e-08 7.83705062e-08 2.71437210e-08\n",
      " 1.10969464e-08 2.41154175e-08 2.25794714e-08 8.55256626e-09\n",
      " 4.61362056e-09 8.86600622e-09 8.10919700e-09 3.32065153e-09\n",
      " 2.15559269e-09 3.78957693e-09 3.39768210e-09 1.49197133e-09\n",
      " 1.09997328e-09 1.80729985e-09 1.59525294e-09 7.45758497e-10\n",
      " 6.01290942e-10 9.36873259e-10 8.17314757e-10 4.03990713e-10\n",
      " 3.47283877e-10 5.18550027e-10 4.48559876e-10 2.32912159e-10\n",
      " 2.09763987e-10 3.02544270e-10 2.60172625e-10 1.41050343e-10\n",
      " 1.31459598e-10 1.84289235e-10 1.57864071e-10 8.88523345e-11\n",
      " 8.49438279e-11 1.16326344e-10 9.94098190e-11 5.77812982e-11\n",
      " 5.62978517e-11 7.56336342e-11 6.45536202e-11 3.85556332e-11\n",
      " 3.81016303e-11 5.04016975e-11 4.29986812e-11 2.62641444e-11\n",
      " 2.62286280e-11 3.42775191e-11 2.92459399e-11 1.81839356e-11\n",
      " 1.82980045e-11 2.37002366e-11 2.02308507e-11 1.27438343e-11\n",
      " 1.28911341e-11 1.66013314e-11 1.41811208e-11 9.00541845e-12\n",
      " 9.13834584e-12 1.17408537e-11 1.00379577e-11 6.39112649e-12\n",
      " 6.49288677e-12 8.35460990e-12 7.15046598e-12 4.53607023e-12\n",
      " 4.60323803e-12 5.95988239e-12 5.10828158e-12 3.20442092e-12\n",
      " 3.23888541e-12 4.24503092e-12 3.64689520e-12 2.24076869e-12\n",
      " 2.24604070e-12 3.00497152e-12 2.59252973e-12 1.54105871e-12\n",
      " 1.52061653e-12 2.10251085e-12 1.82921665e-12 1.03481824e-12\n",
      " 9.91396188e-13 1.44465437e-12 1.27869017e-12 6.74079517e-13\n",
      " 6.09373861e-13 9.67808655e-13 8.87882906e-13 4.26382735e-13\n",
      " 3.40918277e-13 6.28396697e-13 6.21050619e-13 2.70339155e-13\n",
      " 1.63365961e-13 3.96849906e-13 4.54799438e-13 1.92858845e-13\n",
      " 6.22058767e-14 2.53767232e-13 3.75000573e-13 1.87517568e-13\n",
      " 1.46757473e-14]\n",
      "[9.40658002e-04 2.95743896e-03 1.12575666e-01 5.88815000e-01\n",
      " 1.24911162e-02 1.41771084e-02 1.40533667e-02 1.23485326e-02\n",
      " 2.26461447e-01 6.81513453e-03 4.27486684e-03 2.36504547e-03\n",
      " 1.12663821e-03 4.41111288e-04 1.28915148e-04 2.18286232e-05\n",
      " 5.63642548e-07 1.44593949e-06 2.24932833e-06 1.01908517e-06\n",
      " 1.14400402e-07 9.79846655e-08 2.40425948e-07 1.60109530e-07\n",
      " 3.34975885e-08 1.95745893e-08 5.09173534e-08 4.14924424e-08\n",
      " 1.22626390e-08 6.55855656e-09 1.55509476e-08 1.42026333e-08\n",
      " 5.22376932e-09 2.81897053e-09 5.94723449e-09 5.81026655e-09\n",
      " 2.48415411e-09 1.39006036e-09 2.64424942e-09 2.69210040e-09\n",
      " 1.28438048e-09 7.48785079e-10 1.30904000e-09 1.36764889e-09\n",
      " 7.09118490e-10 4.29745448e-10 7.02209570e-10 7.45840306e-10\n",
      " 4.12717802e-10 2.58918235e-10 4.00815239e-10 4.30242412e-10\n",
      " 2.50787968e-10 1.62148390e-10 2.40331195e-10 2.59724254e-10\n",
      " 1.57916158e-10 1.04790834e-10 1.49949462e-10 1.62740363e-10\n",
      " 1.02423613e-10 6.94935355e-11 9.66440462e-11 1.05161987e-10\n",
      " 6.80858195e-11 4.70710400e-11 6.39671840e-11 6.97121074e-11\n",
      " 4.61879284e-11 3.24336901e-11 4.32683045e-11 4.71948607e-11\n",
      " 3.18526419e-11 2.26501595e-11 2.97829830e-11 3.25010543e-11\n",
      " 2.22509823e-11 1.59750137e-11 2.07813604e-11 2.26845734e-11\n",
      " 1.56896937e-11 1.13383034e-11 1.46448270e-11 1.59905050e-11\n",
      " 1.11267470e-11 8.06716384e-12 1.03845107e-11 1.13431554e-11\n",
      " 7.90486163e-12 5.72878313e-12 7.38017408e-12 8.06624922e-12\n",
      " 5.60025149e-12 4.03916829e-12 5.23368913e-12 5.72496158e-12\n",
      " 3.93432482e-12 2.80873120e-12 3.68427812e-12 4.03411219e-12\n",
      " 2.72081985e-12 1.90907118e-12 2.55814746e-12 2.80341165e-12\n",
      " 1.83343633e-12 1.25228114e-12 1.73784093e-12 1.90404509e-12\n",
      " 1.18562130e-12 7.77834454e-13 1.14320643e-12 1.24786152e-12\n",
      " 7.17734603e-13 4.44171150e-13 7.19378250e-13 7.74191978e-13\n",
      " 3.88800410e-13 2.23271690e-13 4.29106678e-13 4.41394902e-13\n",
      " 1.71180634e-13 9.71889921e-14 2.47858587e-13 2.21405396e-13\n",
      " 4.71668135e-14 5.59195830e-14 1.60749086e-13 9.62522485e-14\n",
      " 3.44299963e-15]\n",
      "[0.         0.         0.11257567 0.588815   0.         0.\n",
      " 0.         0.         0.22646145 0.         0.         0.\n",
      " 0.         0.         0.         0.         0.         0.\n",
      " 0.         0.         0.         0.         0.         0.\n",
      " 0.         0.         0.         0.         0.         0.\n",
      " 0.         0.         0.         0.         0.         0.\n",
      " 0.         0.         0.         0.         0.         0.\n",
      " 0.         0.         0.         0.         0.         0.\n",
      " 0.         0.         0.         0.         0.         0.\n",
      " 0.         0.         0.         0.         0.         0.\n",
      " 0.         0.         0.         0.         0.         0.\n",
      " 0.         0.         0.         0.         0.         0.\n",
      " 0.         0.         0.         0.         0.         0.\n",
      " 0.         0.         0.         0.         0.         0.\n",
      " 0.         0.         0.         0.         0.         0.\n",
      " 0.         0.         0.         0.         0.         0.\n",
      " 0.         0.         0.         0.         0.         0.\n",
      " 0.         0.         0.         0.         0.         0.\n",
      " 0.         0.         0.         0.         0.         0.\n",
      " 0.         0.         0.         0.         0.         0.\n",
      " 0.         0.         0.         0.         0.         0.\n",
      " 0.         0.         0.        ]\n"
     ]
    }
   ],
   "source": [
    "V_ = np.dot(W, np.array(coefficients))\n",
    "print(V_)\n",
    "normalized_v = v/np.sum(v)\n",
    "print(normalized_v)\n",
    "clean_v = np.array([x if x>0.05 else 0 for x in normalized_v ])\n",
    "print(clean_v)"
   ]
  },
  {
   "cell_type": "code",
   "execution_count": 68,
   "metadata": {},
   "outputs": [
    {
     "name": "stdout",
     "output_type": "stream",
     "text": [
      "[0. 1. 4. 9. 1. 0. 1. 4. 4. 1. 0. 1. 9. 4. 1. 0. 0. 0. 0.]\n",
      "[[ 1.   1.   1.   1.   0.   0.   0.   0.   0.   0.   0.   0.   0.   0.\n",
      "   0.   0.   0.   0.   0. ]\n",
      " [ 0.   0.   0.   0.   1.   1.   1.   1.   0.   0.   0.   0.   0.   0.\n",
      "   0.   0.   0.   0.   0. ]\n",
      " [ 0.   0.   0.   0.   0.   0.   0.   0.   1.   1.   1.   1.   0.   0.\n",
      "   0.   0.   0.   0.   0. ]\n",
      " [ 0.   0.   0.   0.   0.   0.   0.   0.   0.   0.   0.   0.   1.   1.\n",
      "   1.   1.   0.   0.   0. ]\n",
      " [ 1.   0.   0.   0.   1.   0.   0.   0.   1.   0.   0.   0.   1.   0.\n",
      "   0.   0.  -0.  -0.  -0.5]\n",
      " [ 0.   1.   0.   0.   0.   1.   0.   0.   0.   1.   0.   0.   0.   1.\n",
      "   0.   0.  -1.  -0.  -0. ]\n",
      " [ 0.   0.   1.   0.   0.   0.   1.   0.   0.   0.   1.   0.   0.   0.\n",
      "   1.   0.  -0.  -1.  -0. ]\n",
      " [ 0.   0.   0.   1.   0.   0.   0.   1.   0.   0.   0.   1.   0.   0.\n",
      "   0.   1.  -0.  -0.  -0.5]]\n",
      "[0.33333333 0.16666667 0.5        0.         0.         0.\n",
      " 0.         0.        ]\n",
      "-----\n",
      "[[0.  0.  0.5]\n",
      " [1.  0.  0. ]\n",
      " [0.  1.  0. ]\n",
      " [0.  0.  0.5]]\n",
      "Simplex iterations: 6\n",
      "[0.30614652 0.30614652 0.38770696]\n",
      "[0.33333333 0.16666667 0.5        0.        ]\n",
      "[0.19385348 0.30614652 0.30614652 0.19385348]\n",
      "Simplex iterations: 6\n",
      "[1.93853480e-01 1.39479853e-01 7.54002493e-13 2.13035505e-13\n",
      " 6.23198807e-13 1.66666667e-01 2.28625357e-12 5.88993116e-13\n",
      " 3.32439755e-13 2.50949968e-12 3.06146520e-01 1.93853480e-01\n",
      " 1.00625291e-13 3.55940144e-13 5.56300891e-14 1.87587283e-12\n",
      " 3.06146520e-01 3.06146520e-01 3.87706960e-01]\n"
     ]
    }
   ],
   "source": [
    "M = 4\n",
    "v = np.zeros((M,))\n",
    "\n",
    "v[1] = 1/6\n",
    "v[2] = 3/6\n",
    "v[0] = 2/6\n",
    "\n",
    "W = np.zeros((M,3))\n",
    "W[1,0] = 1\n",
    "#W[0,1] = 1/3\n",
    "#W[1,1] = 1/3\n",
    "#W[2,1] = 1/3\n",
    "W[2,1] = 1\n",
    "W[0,2] = 0.5\n",
    "W[3,2] = 0.5\n",
    "\n",
    "C = np.ones((M,M))\n",
    "for i in range(M):\n",
    "    for j in range(M):\n",
    "        C[i,j] = (i-j)**2\n",
    "    \n",
    "c,A,b = simplex_OT_canonical_matrices(v,W,C)\n",
    "print(c)\n",
    "print(A)\n",
    "print(b)\n",
    "print(\"-----\")\n",
    "print(W)\n",
    "\n",
    "h = compute_NMF(v,C,W)\n",
    "print(h)\n",
    "print(v)\n",
    "print(np.dot(W,h))\n",
    "\n",
    "th = simplex_algorithm(c, A, b)\n",
    "print(th)"
   ]
  }
 ],
 "metadata": {
  "kernelspec": {
   "display_name": "Python 3",
   "language": "python",
   "name": "python3"
  },
  "language_info": {
   "codemirror_mode": {
    "name": "ipython",
    "version": 3
   },
   "file_extension": ".py",
   "mimetype": "text/x-python",
   "name": "python",
   "nbconvert_exporter": "python",
   "pygments_lexer": "ipython3",
   "version": "3.6.8"
  }
 },
 "nbformat": 4,
 "nbformat_minor": 2
}
